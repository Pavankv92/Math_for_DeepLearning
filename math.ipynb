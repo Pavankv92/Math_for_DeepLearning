{
  "cells": [
    {
      "cell_type": "markdown",
      "metadata": {},
      "source": [
        "# Probability"
      ]
    },
    {
      "cell_type": "markdown",
      "metadata": {},
      "source": [
        "Probability is a number between zero and one that measures how likely something is to happen [0,1]. \n",
        "\n",
        "### Notation\n",
        "* X = Discrete random variable \n",
        "  \n",
        "* x = Continuous random variable \n",
        "  \n",
        "* P(A) = Probability of a event A occuring\n",
        "  \n",
        "* $P(A^-)$ = 1 - P(A) =  Probability of a event A NOT occuring\n",
        "\n",
        "### Rules of Probability\n",
        "1.  $0 \\le P(A) \\le 1$\n",
        "   \n",
        "2.  $\\sum_i P(A_i) = 1$\n",
        "\n",
        "#### Sum Rule\n",
        "Sum rule is generally concerned with with the probability of more than one mutually exclusive event happening. It tells us the probability of either event P(A or B) happening.\n",
        "\n",
        "*  Mutually exclusive event: two events A and B are said to mutually exclusive if they can't both happen at the same time. Either A or B happens. For example, a coin flip is either heads or tails; it can't be both. For a mutually exclusive events, if A happens, B is automatically excluded $P(B)= 0$ and vice versa.\n",
        "\n",
        "* Independent: Probablity of two events are unrelated, probability of A is uneffected by wheather event B happend\n",
        "\n",
        "$P(A \\ or B) = P(A \\cup B) = P(A) + P(B)$ for mutually exclusive events.\n",
        "\n",
        "Example: For a unbiased die, proability of rolling four or five is $\\frac{1}{6}$ + $\\frac{1}{6}$ = $\\frac{1}{3}$  \n",
        "\n",
        "#### Product Rule\n",
        "The sum rule tells us the probability of events A or B happening. Product rule tells us probablity of event A and B happening. \\\n",
        "$P(A \\ and \\ B) = P(A \\cap B) = P(A)P(B)$ for independent events. \n",
        "\n",
        "for mutually exclusive events, its clear that $P(A)P(B) = 0 $\n",
        "\n",
        "Example: Assume, 80% people in the world have brown eyes and 50% population is female. What is the probability of a randomly selected person being a female with brown eyes.\n",
        "\n",
        "P(female, brown-eyed) = P(female) P(brown-eyed) = 0.5(0.8) = 0.40\n",
        "\n",
        "#### Sum Rule (General)\n",
        "Many events are not mutually exclusive. In that case, sum rule becomes\n",
        "\n",
        "$P(A \\ or B) = P(A \\cup B) = P(A) + P(B) - P(A \\ and \\ B)$ \n",
        "\n",
        "Example: An archaeologist has discovered a dmall cache of 20 ancient coins. 12 coins are Roman and 8 are Greek. 6 of the Roman and 3 of the Greek are silver and remaining are bronze. What'd the probability of selecting the a silver or Roman coin from the cache ?\n",
        "\n",
        "$P(silver \\ or \\ Roman) =  P(Silver) + P(Roman) =$ $\\frac{9}{20}$ + $\\frac{12}{20}$ = $\\frac{21}{20} = 1.05 $ (Wrong!)\n",
        "\n",
        "Roman coin is counted twice, once in silver and Roman. Use the sum rule (general)\n",
        "\n",
        "$P(silver \\ or \\ Roman) =  P(Silver) + P(Roman) - P(Silver \\ and \\ Roman) =$ $\\frac{9}{20}$ + $\\frac{12}{20}$ - $\\frac{6}{20}$= $\\frac{15}{20} = 0.75$\n",
        "\n",
        "### Conditional Probability\n",
        "Consider a bag of marbles: 8 red and 2 blue. If we pick a marble at randomly from the bag, we have $\\frac{2}{10}$ chance of picking a blue marble. Say we pick the blue marble, play with it and put it back in the same bag, shake it, and now pull our another marble. What's the chance of picking a blue marbke a second time ? it is still $\\frac{2}{10}$.\n",
        "\n",
        "If the fact that event A happened (here, picking a blue marble and putting it back in the bag) hasn't affected the probability of the future event B, the two are independent events. Our chance of picking a blue marble second time is in no way affected by the fact that we previously chose a blue marble. \n",
        "\n",
        "Now consider an alternate scenario. We still have bag with 8 red and 2 blue marbles. We pick a marble, say red this time - and we keep this red marble aside. Now, we pick another marble from the bag. What's is the probability of picking another red marble? Here, things have changed. There are 9 marbles now and 7 of them red. So our chance of picking a red marble is $\\frac{7}{9}$. The possibility of choosing a red marble were initially $\\frac{8}{10}$, the fact that event A happened, has altered the probablity of the second event. The events are no longer independent. Notationally we write P(B|A) to mean the probability of event B given event A has happened. This is a conditional probability becuase it's conditional on event A happening.  \n",
        "\n",
        "Product Rule (Conditional) $P(A \\ and \\ B) = P(B|A)P(A)$. Probability of the 2 events both happening is the product of the probability of the one given the other has happened and the probability of the other. For our above scenario, $P(A \\ and \\ B) = P(B|A)P(A)$ = $\\frac{7}{9}$ $\\frac{8}{10}$ = 0.6222\n",
        "\n",
        "* If the two events are mutually exclusive, $P(B|A)$ = $P(A|B)$ = 0. \n",
        "* If two events are independent, then $P(B|A)$ = $P(B)$ and $P(A|B)$ = $P(A)$. \n",
        "* Typically, $P(B|A)$ $\\ne$ $P(A|B)$ \n",
        "\n",
        "### Total Probability\n",
        "\n",
        "If our sample space is separated into disjoint regions, $B_i(B_1, B_2, etc.)$ so that the totality of th sample space is covered by the collection of $B_i$'s and the $B_i$'s don't overlap, we can calculate the probability of an event over all the partitions as the following:\n",
        "\n",
        "$P(A)$ = $\\sum_i P(A|B_i)P(B_i)$\n",
        "\n",
        "Example: You have three cities, Kish, Kesh and Kuara, and their popolations are 2000, 1000 and 3000 respectively. Additionaly the percentages of people with blue eyes in these cities are 12%, 3% and 21% respectively. What's the probability that a randomly selected person from among the cities had blue eyes? The cities population affect things, as the probability of having blue eyes varies by the city and the cities vary in population. To find the P(blue), we use the total probability:\n",
        "\n",
        "$ P(blue) = P(blue|Kish)P(Kish) + P(blue|Kesh)P(Kesh) + P(blue|Kuara)P(Kuara)$\n",
        "\n",
        "$P(blue) = 0.12 \\frac{2000}{6000} + 0.03 \\frac{1000}{6000} + 0.21 \\frac{3000}{6000} = 0.15$\n",
        "\n",
        "\n",
        "### Joint & Marginal Probability\n",
        "\n",
        "\n"
      ]
    },
    {
      "cell_type": "markdown",
      "metadata": {},
      "source": []
    }
  ],
  "metadata": {
    "colab": {
      "name": "ExploringLoss.ipynb",
      "provenance": []
    },
    "kernelspec": {
      "display_name": "Python 3",
      "language": "python",
      "name": "python3"
    },
    "language_info": {
      "codemirror_mode": {
        "name": "ipython",
        "version": 3
      },
      "file_extension": ".py",
      "mimetype": "text/x-python",
      "name": "python",
      "nbconvert_exporter": "python",
      "pygments_lexer": "ipython3",
      "version": "3.10.11"
    }
  },
  "nbformat": 4,
  "nbformat_minor": 0
}
